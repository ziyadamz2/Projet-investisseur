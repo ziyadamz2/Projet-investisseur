df_2018m.sort_values("DEP").head()
df_2018m=df_2018m.drop(columns=['id_zone','INSEE', 'EPCI','REG', 'TYPPRED', 'NBobs_commune', 'Nbobs_maille', 'R2adj'])
df_2018m['année_etude']='2018'
df_2018m['type_de_logement']='Maison'
df_2018m=df_2018m[['année_etude','type_de_logement', 'DEP','LIBGEO','loypredm2', 'lwr.IPm2', 'upr.IPm2']]